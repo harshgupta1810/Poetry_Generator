{
 "cells": [
  {
   "cell_type": "code",
   "execution_count": 1,
   "metadata": {
    "pycharm": {
     "is_executing": true
    }
   },
   "outputs": [],
   "source": [
    "import pronouncing\n",
    "import markovify\n",
    "import random\n",
    "import re\n",
    "import os\n",
    "import numpy as np\n",
    "from tensorflow.keras.layers import Embedding, LSTM, Dense, Dropout, Bidirectional\n",
    "from tensorflow.keras.models import Sequential, load_model, save_model"
   ]
  },
  {
   "cell_type": "code",
   "execution_count": 2,
   "metadata": {},
   "outputs": [],
   "source": [
    "def create_network(depth):\n",
    "    model = Sequential()\n",
    "    model.add(LSTM(1, input_shape=(2, 2), return_sequences=True))\n",
    "    for i in range(depth):\t\n",
    "        model.add(LSTM(2, return_sequences=True))\n",
    "        model.add(Dropout(0.2))\n",
    "    model.add(LSTM(1, return_sequences=True))\n",
    "    model.summary()\n",
    "    model.compile(optimizer='rmsprop', loss='mse')\n",
    "    return model"
   ]
  },
  {
   "cell_type": "code",
   "execution_count": 3,
   "metadata": {},
   "outputs": [],
   "source": [
    "#Markov Chain\n",
    "def markov(input):\n",
    "    ######\n",
    "\tread = open(input, \"r\", encoding='utf-8').read()\n",
    "\ttext_model = markovify.NewlineText(read)\n",
    "\treturn text_model"
   ]
  },
  {
   "cell_type": "code",
   "execution_count": 4,
   "metadata": {},
   "outputs": [],
   "source": [
    "def syllables(line):\n",
    "    count = 0\n",
    "    vowels = 'aeiouy'\n",
    "    words = line.split(' ')\n",
    "    for word in words:\n",
    "        word = word.lower().strip(\".:;?!\")        \n",
    "        if len(word) > 0 and word[0] in vowels:\n",
    "            count += 1\n",
    "        for index in range(1, len(word)):\n",
    "            if word[index] in vowels and word[index-1] not in vowels:\n",
    "                count += 1\n",
    "        if word.endswith('e'):\n",
    "            count -= 1\n",
    "        if word.endswith('le') and len(word) > 2 and word[-3] not in vowels:\n",
    "            count += 1\n",
    "    return count / maxsyllables"
   ]
  },
  {
   "cell_type": "code",
   "execution_count": 5,
   "metadata": {},
   "outputs": [],
   "source": [
    "# Make index of words that rhyme with your word\n",
    "def rhymeindex(lyrics):\n",
    "\trhyme_master_list = []\n",
    "\tprint (\"Building list of rhymes:\")\n",
    "\tfor i in lyrics:\n",
    "\t\tword = re.sub(r\"\\W+\", '', i.split(\" \")[-1]).lower()\n",
    "\t\trhymeslist = pronouncing.rhymes(word)\n",
    "\t\trhymeslistends = []      \n",
    "\t\tfor i in rhymeslist:\n",
    "\t\t\trhymeslistends.append(i[-2:])\n",
    "\t\ttry:\n",
    "\t\t\trhymescheme = max(set(rhymeslistends), key=rhymeslistends.count)\n",
    "\t\texcept Exception:\n",
    "\t\t\trhymescheme = word[-2:]\n",
    "\t\trhyme_master_list.append(rhymescheme)\n",
    "\trhyme_master_list = list(set(rhyme_master_list))\n",
    "\treverselist = [x[::-1] for x in rhyme_master_list]\n",
    "\treverselist = sorted(reverselist)\n",
    "\trhymelist = [x[::-1] for x in reverselist]\n",
    "\tprint(\"List of Sorted 2-Letter Rhyme Ends:\")\n",
    "\tprint(rhymelist)\n",
    "\treturn rhymelist"
   ]
  },
  {
   "cell_type": "code",
   "execution_count": 6,
   "metadata": {
    "pycharm": {
     "name": "#%%\n"
    }
   },
   "outputs": [],
   "source": [
    "# Make index of rhymes that you use\n",
    "def rhyme(line, rhyme_list):\n",
    "\tword = re.sub(r\"\\W+\", '', line.split(\" \")[-1]).lower()\n",
    "\trhymeslist = pronouncing.rhymes(word)\n",
    "\trhymeslistends = []\n",
    "\tfor i in rhymeslist:\n",
    "\t\trhymeslistends.append(i[-2:])\n",
    "\ttry:\n",
    "\t\t\trhymescheme = max(set(rhymeslistends), key=rhymeslistends.count)\n",
    "\texcept Exception:\n",
    "\t\trhymescheme = word[-2:]\n",
    "\ttry:\n",
    "\t\tfloat_rhyme = rhyme_list.index(rhymescheme)\n",
    "\t\tfloat_rhyme = float_rhyme / float(len(rhyme_list))\n",
    "\t\treturn float_rhyme\n",
    "\texcept Exception:\n",
    "\t\tfloat_rhyme = None\n",
    "\t\treturn float_rhyme"
   ]
  },
  {
   "cell_type": "code",
   "execution_count": 7,
   "metadata": {},
   "outputs": [],
   "source": [
    "#Separate each line of the input txt\n",
    "def split_lyrics_file(text_file):\n",
    "\ttext = open(text_file, encoding='utf-8').read()\n",
    "\ttext = text.split(\"\\n\")\n",
    "\twhile \"\" in text:\n",
    "\t\ttext.remove(\"\")\n",
    "\treturn text"
   ]
  },
  {
   "cell_type": "code",
   "execution_count": 8,
   "metadata": {},
   "outputs": [],
   "source": [
    "#Generate lyrics\n",
    "def generate_lyrics(text_model, text_file):\n",
    "\tbars = []\n",
    "\tlast_words = []\n",
    "\tlyriclength = len(open(text_file,encoding='utf-8').read().split(\"\\n\"))\n",
    "\tcount = 0\n",
    "\tmarkov_model = markov(text_file)\n",
    "\twhile len(bars) < lyriclength / 9 and count < lyriclength * 2:\n",
    "\t\tbar = markov_model.make_sentence(max_overlap_ratio = .49, tries=100)\n",
    "\t\tif type(bar) != type(None) and syllables(bar) < 1:\n",
    "\t\t\tdef get_last_word(bar):\n",
    "\t\t\t\tlast_word = bar.split(\" \")[-1]\n",
    "\t\t\t\tif last_word[-1] in \"!.?,\":\n",
    "\t\t\t\t\tlast_word = last_word[:-1]\n",
    "\t\t\t\treturn last_word\n",
    "\t\t\tlast_word = get_last_word(bar)\n",
    "\t\t\tif bar not in bars and last_words.count(last_word) < 3:\n",
    "\t\t\t\tbars.append(bar)\n",
    "\t\t\t\tlast_words.append(last_word)\n",
    "\t\t\t\tcount += 1\n",
    "\treturn bars"
   ]
  },
  {
   "cell_type": "code",
   "execution_count": 9,
   "metadata": {},
   "outputs": [],
   "source": [
    "#Build dataset\n",
    "def build_dataset(lines, rhyme_list):\n",
    "\tdataset = []\n",
    "\tline_list = []\n",
    "\tfor line in lines:\n",
    "\t\tline_list = [line, syllables(line), rhyme(line, rhyme_list)]\n",
    "\t\tdataset.append(line_list)\n",
    "\tx_data = []\n",
    "\ty_data = []\n",
    "\tfor i in range(len(dataset) - 3):\n",
    "\t\tline1 = dataset[i    ][1:]\n",
    "\t\tline2 = dataset[i + 1][1:]\n",
    "\t\tline3 = dataset[i + 2][1:]\n",
    "\t\tline4 = dataset[i + 3][1:]\n",
    "\t\tx = [line1[0], line1[1], line2[0], line2[1]]\n",
    "\t\tx = np.array(x)\n",
    "\t\tx = x.reshape(2,2)\n",
    "\t\tx_data.append(x)\n",
    "\t\ty = [line3[0], line3[1], line4[0], line4[1]]\n",
    "\t\ty = np.array(y)\n",
    "\t\ty = y.reshape(2,2)\n",
    "\t\ty_data.append(y)\n",
    "\tx_data = np.array(x_data)\n",
    "\ty_data = np.array(y_data)\n",
    "\treturn x_data, y_data"
   ]
  },
  {
   "cell_type": "code",
   "execution_count": 10,
   "metadata": {},
   "outputs": [],
   "source": [
    "#Compose verse\n",
    "def compose_rap(lines, rhyme_list, lyrics_file, model):\n",
    "\trap_vectors = []\n",
    "\thuman_lyrics = split_lyrics_file(lyrics_file)\n",
    "\tinitial_index = random.choice(range(len(human_lyrics) - 1))\n",
    "\tinitial_lines = human_lyrics[initial_index:initial_index + 2]\n",
    "\tstarting_input = []\n",
    "\tfor line in initial_lines:\n",
    "\t\tstarting_input.append([syllables(line), rhyme(line, rhyme_list)])\n",
    "\tstarting_vectors = model.predict(np.array([starting_input]).flatten().reshape(1, 2, 2))\n",
    "\trap_vectors.append(starting_vectors)\n",
    "\tfor i in range(100):\n",
    "\t\trap_vectors.append(model.predict(np.array([rap_vectors[-1]]).flatten().reshape(1, 2, 2)))\n",
    "\treturn rap_vectors"
   ]
  },
  {
   "cell_type": "code",
   "execution_count": 11,
   "metadata": {},
   "outputs": [],
   "source": [
    "#Compose verse (part 2)\n",
    "def vectors_into_song(vectors, generated_lyrics, rhyme_list):\n",
    "\tprint (\"\\n\\n\")\n",
    "\tprint (\"Writing verse:\")\n",
    "\tprint (\"\\n\\n\")\n",
    "\tdef last_word_compare(rap, line2):\n",
    "\t\tpenalty = 0\n",
    "\t\tfor line1 in rap:\n",
    "\t\t\tword1 = line1.split(\" \")[-1]\n",
    "\t\t\tword2 = line2.split(\" \")[-1]\n",
    "\t\t\twhile word1[-1] in \"?!,. \":\n",
    "\t\t\t\tword1 = word1[:-1]\n",
    "\t\t\twhile word2[-1] in \"?!,. \":\n",
    "\t\t\t\tword2 = word2[:-1]\n",
    "\t\t\tif word1 == word2:\n",
    "\t\t\t\tpenalty += 0.2\n",
    "\t\treturn penalty\n",
    "\tdef calculate_score(vector_half, syllables, rhyme, penalty):\n",
    "\t\tdesired_syllables = vector_half[0]\n",
    "\t\tdesired_rhyme = vector_half[1]\n",
    "\t\tdesired_syllables = desired_syllables * maxsyllables\n",
    "\t\tdesired_rhyme = desired_rhyme * len(rhyme_list)\n",
    "\t\tscore = 1.0 - abs(float(desired_syllables) - float(syllables)) + abs(float(desired_rhyme) - float(rhyme)) - penalty\n",
    "\t\treturn score\n",
    "\tdataset = []\n",
    "\tfor line in generated_lyrics:\n",
    "\t\tline_list = [line, syllables(line), rhyme(line, rhyme_list)]\n",
    "\t\tdataset.append(line_list)\n",
    "\trap = []\n",
    "\tvector_halves = []\n",
    "\tfor vector in vectors:\n",
    "\t\tvector_halves.append(list(vector[0][0]))\n",
    "\t\tvector_halves.append(list(vector[0][1]))\n",
    "\tfor vector in vector_halves:\n",
    "\t\tscorelist = []\n",
    "\t\tfor item in dataset:\n",
    "\t\t\tline = item[0]\n",
    "\t\t\tif len(rap) != 0:\n",
    "\t\t\t\tpenalty = last_word_compare(rap, line)\n",
    "\t\t\telse:\n",
    "\t\t\t\tpenalty = 0\n",
    "\t\t\ttotal_score = calculate_score(vector, item[1], item[2], penalty)\n",
    "\t\t\tscore_entry = [line, total_score]\n",
    "\t\t\tscorelist.append(score_entry)\n",
    "\t\tfixed_score_list = [0]\n",
    "\t\tfor score in scorelist:\n",
    "\t\t\tfixed_score_list.append(float(score[1]))\n",
    "\t\tmax_score = max(fixed_score_list)\n",
    "\t\tfor item in scorelist:\n",
    "\t\t\tif item[1] == max_score:\n",
    "\t\t\t\trap.append(item[0])\n",
    "\t\t\t\tprint (str(item[0]))\n",
    "\t\t\t\tfor i in dataset:\n",
    "\t\t\t\t\tif item[0] == i[0]:\n",
    "\t\t\t\t\t\tdataset.remove(i)\n",
    "\t\t\t\t\t\tbreak\n",
    "\t\t\t\tbreak\n",
    "\treturn rap"
   ]
  },
  {
   "cell_type": "code",
   "execution_count": 12,
   "metadata": {},
   "outputs": [],
   "source": [
    "def train(x_data, y_data, model):\n",
    "\tmodel.fit(np.array(x_data), np.array(y_data),\n",
    "\t\t\t  batch_size=2,\n",
    "\t\t\t  epochs=5,\n",
    "\t\t\t  verbose=1)"
   ]
  },
  {
   "cell_type": "code",
   "execution_count": 13,
   "metadata": {
    "pycharm": {
     "name": "#%%\n"
    }
   },
   "outputs": [],
   "source": [
    "def train_model(train_mode,text_file,depth =4):\n",
    "\tmodel = create_network(depth)\n",
    "\ttext_model = markov(text_file)\n",
    "\tif train_mode == True:\n",
    "\t\tbars = split_lyrics_file(text_file)\n",
    "\tif train_mode == False:\n",
    "\t\tbars = generate_lyrics(text_model, text_file)\n",
    "\trhyme_list = rhymeindex(bars)\n",
    "\tif train_mode == True:\n",
    "\t\tx_data, y_data = build_dataset(bars, rhyme_list)\n",
    "\t\ttrain(x_data, y_data, model)\n",
    "\treturn model"
   ]
  },
  {
   "cell_type": "code",
   "execution_count": 14,
   "metadata": {
    "pycharm": {
     "name": "#%%\t\n"
    }
   },
   "outputs": [],
   "source": [
    "def main(folder_path):\n",
    "    # List all files in the folder\n",
    "    files = os.listdir(folder_path)\n",
    "    for file_name in files:\n",
    "        # Check if the item in the folder is a file\n",
    "        if os.path.isfile(os.path.join(folder_path, file_name)):\n",
    "            # Train the model for each file\n",
    "            print(file_name)\n",
    "            model = train_model(train_mode, os.path.join(folder_path, file_name))\n",
    "    model.save('poem.h5')"
   ]
  },
  {
   "cell_type": "code",
   "execution_count": 15,
   "metadata": {
    "pycharm": {
     "name": "#%%\n"
    }
   },
   "outputs": [
    {
     "name": "stdout",
     "output_type": "stream",
     "text": [
      "adele.txt\n",
      "Model: \"sequential\"\n",
      "_________________________________________________________________\n",
      " Layer (type)                Output Shape              Param #   \n",
      "=================================================================\n",
      " lstm (LSTM)                 (None, 2, 1)              16        \n",
      "                                                                 \n",
      " lstm_1 (LSTM)               (None, 2, 2)              32        \n",
      "                                                                 \n",
      " dropout (Dropout)           (None, 2, 2)              0         \n",
      "                                                                 \n",
      " lstm_2 (LSTM)               (None, 2, 2)              40        \n",
      "                                                                 \n",
      " dropout_1 (Dropout)         (None, 2, 2)              0         \n",
      "                                                                 \n",
      " lstm_3 (LSTM)               (None, 2, 2)              40        \n",
      "                                                                 \n",
      " dropout_2 (Dropout)         (None, 2, 2)              0         \n",
      "                                                                 \n",
      " lstm_4 (LSTM)               (None, 2, 2)              40        \n",
      "                                                                 \n",
      " dropout_3 (Dropout)         (None, 2, 2)              0         \n",
      "                                                                 \n",
      " lstm_5 (LSTM)               (None, 2, 1)              16        \n",
      "                                                                 \n",
      "=================================================================\n",
      "Total params: 184 (736.00 Byte)\n",
      "Trainable params: 184 (736.00 Byte)\n",
      "Non-trainable params: 0 (0.00 Byte)\n",
      "_________________________________________________________________\n",
      "Building list of rhymes:\n",
      "List of Sorted 2-Letter Rhyme Ends:\n",
      "['', '1', '2', 'x2', '3', '4', 'na', 'ad', 'ed', 'id', 'ld', 'nd', 'od', 'ce', 'de', 'ee', 'fe', 'ge', 'he', 'ke', 'le', 'me', 'ne', 're', 'se', 'te', 'ue', 've', 'ff', 'lf', 'ng', 'ah', 'ch', 'gh', 'sh', 'th', 'ai', 'ri', 'ck', 'ek', 'lk', 'nk', 'rk', 'sk', 'el', 'll', 'rl', 'am', 'em', 'im', 'mm', 'rm', 'um', 'an', 'en', 'in', 'on', 'rn', 'un', 'wn', 'ao', 'co', 'go', 'io', 'ro', 'ep', 'lp', 'mp', 'pp', 'ar', 'er', 'ur', \"'s\", 'as', 'ds', 'es', 'gs', 'hs', 'ks', 'ms', 'ns', 'ps', 'rs', 'ss', 'ts', 'us', \"'t\", 'at', 'ct', 'et', 'ft', 'ht', 'it', 'lt', 'nt', 'rt', 'st', 'tt', 'ut', 'au', 'av', 'ew', 'ow', 'ay', 'by', 'dy', 'ey', 'hy', 'ly', 'ny', 'oy', 'ry', 'ty', 'iz']\n",
      "Epoch 1/5\n",
      "1199/1199 [==============================] - 17s 7ms/step - loss: 0.1522\n",
      "Epoch 2/5\n",
      "1199/1199 [==============================] - 9s 8ms/step - loss: 0.0960\n",
      "Epoch 3/5\n",
      "1199/1199 [==============================] - 8s 7ms/step - loss: 0.0881\n",
      "Epoch 4/5\n",
      "1199/1199 [==============================] - 8s 7ms/step - loss: 0.0862\n",
      "Epoch 5/5\n",
      "1199/1199 [==============================] - 8s 7ms/step - loss: 0.0861\n",
      "al-green.txt\n",
      "Model: \"sequential_1\"\n",
      "_________________________________________________________________\n",
      " Layer (type)                Output Shape              Param #   \n",
      "=================================================================\n",
      " lstm_6 (LSTM)               (None, 2, 1)              16        \n",
      "                                                                 \n",
      " lstm_7 (LSTM)               (None, 2, 2)              32        \n",
      "                                                                 \n",
      " dropout_4 (Dropout)         (None, 2, 2)              0         \n",
      "                                                                 \n",
      " lstm_8 (LSTM)               (None, 2, 2)              40        \n",
      "                                                                 \n",
      " dropout_5 (Dropout)         (None, 2, 2)              0         \n",
      "                                                                 \n",
      " lstm_9 (LSTM)               (None, 2, 2)              40        \n",
      "                                                                 \n",
      " dropout_6 (Dropout)         (None, 2, 2)              0         \n",
      "                                                                 \n",
      " lstm_10 (LSTM)              (None, 2, 2)              40        \n",
      "                                                                 \n",
      " dropout_7 (Dropout)         (None, 2, 2)              0         \n",
      "                                                                 \n",
      " lstm_11 (LSTM)              (None, 2, 1)              16        \n",
      "                                                                 \n",
      "=================================================================\n",
      "Total params: 184 (736.00 Byte)\n",
      "Trainable params: 184 (736.00 Byte)\n",
      "Non-trainable params: 0 (0.00 Byte)\n",
      "_________________________________________________________________\n",
      "Building list of rhymes:\n",
      "List of Sorted 2-Letter Rhyme Ends:\n",
      "['', 'x3', 'ea', 'ha', 'la', 'na', 'ta', 'lb', 'ob', 'ic', 'ad', 'ed', 'id', 'ld', 'nd', 'rd', 'ud', 'be', 'ce', 'de', 'ee', 'fe', 'ge', 'ke', 'le', 'me', 'ne', 'pe', 're', 'se', 'te', 've', 'ze', 'ff', 'lf', 'ng', 'ah', 'ch', 'eh', 'th', 'uh', 'ai', 'li', 'ti', 'ck', 'ik', 'rk', 'el', 'il', 'll', 'rl', 'ul', 'am', 'im', 'mm', 'rm', 'um', 'an', 'en', 'in', 'on', 'un', 'wn', 'ao', 'do', 'eo', 'lo', 'oo', 'ep', 'pp', 'ar', 'er', 'ur', \"'s\", 'as', 'es', 'gs', 'ks', 'ls', 'ms', 'ns', 'ps', 'rs', 'ss', 'ts', 'us', 'at', 'ct', 'it', 'nt', 'rt', 'st', 'tt', 'ut', 'au', 'av', 'ew', 'ow', 'ay', 'by', 'dy', 'ey', 'ly', 'ny', 'oy', 'py', 'ry', 'ty', 'iz']\n",
      "Epoch 1/5\n",
      "1064/1064 [==============================] - 16s 7ms/step - loss: 0.1631\n",
      "Epoch 2/5\n",
      " 816/1064 [======================>.......] - ETA: 1s - loss: 0.1001"
     ]
    },
    {
     "name": "stderr",
     "output_type": "stream",
     "text": [
      "\n",
      "KeyboardInterrupt\n",
      "\n"
     ]
    }
   ],
   "source": [
    "# Set the desired values\n",
    "depth = 4\n",
    "maxsyllables = 16\n",
    "train_mode = True\n",
    "data = './data'\n",
    "\n",
    "# Call the main function\n",
    "main(data)"
   ]
  },
  {
   "cell_type": "code",
   "execution_count": null,
   "metadata": {
    "pycharm": {
     "name": "#%%\n"
    }
   },
   "outputs": [],
   "source": [
    "# Generate a poem from a given prompt\n",
    "def generate_poem(prompt, model, text_model, rhyme_list, max_lines):\n",
    "    # Generate initial lines using the Markov chain text model\n",
    "    initial_lines = text_model.make_sentence().split()\n",
    "    poem = initial_lines\n",
    "    for _ in range(max_lines):\n",
    "        # Prepare the input for the model\n",
    "        x_data = []\n",
    "        for i in range(len(poem) - 3):\n",
    "            line1 = poem[i]\n",
    "            line2 = poem[i + 1]\n",
    "            x = [syllables(line1), rhyme(line1, rhyme_list),\n",
    "                 syllables(line2), rhyme(line2, rhyme_list)]\n",
    "            x_data.append(x)\n",
    "        x_data = np.array(x_data)\n",
    "        x_data = x_data.reshape(1, x_data.shape[0], x_data.shape[1])\n",
    "        # Generate the next lines using the trained model\n",
    "        predicted_lines = model.predict(x_data)\n",
    "        # Select the line with the highest score\n",
    "        selected_line = None\n",
    "        highest_score = -1\n",
    "        for line in predicted_lines[0]:\n",
    "            score = line[0]\n",
    "            if score > highest_score:\n",
    "                selected_line = line[1]\n",
    "                highest_score = score\n",
    "        # Add the selected line to the poem\n",
    "        poem.append(selected_line)\n",
    "    # Return the generated poem as a string\n",
    "    return ' '.join(poem)"
   ]
  },
  {
   "cell_type": "code",
   "execution_count": null,
   "metadata": {
    "pycharm": {
     "name": "#%%\n"
    }
   },
   "outputs": [],
   "source": [
    "model = load_model('poem.h5')\n",
    "prompt = \"The sun sets low\"\n",
    "generated_poem = generate_poem(prompt, model, text_model, rhyme_list)\n",
    "print(generated_poem)"
   ]
  }
 ],
 "metadata": {
  "kernelspec": {
   "display_name": "Python 3 (ipykernel)",
   "language": "python",
   "name": "python3"
  },
  "language_info": {
   "codemirror_mode": {
    "name": "ipython",
    "version": 3
   },
   "file_extension": ".py",
   "mimetype": "text/x-python",
   "name": "python",
   "nbconvert_exporter": "python",
   "pygments_lexer": "ipython3",
   "version": "3.10.11"
  }
 },
 "nbformat": 4,
 "nbformat_minor": 1
}